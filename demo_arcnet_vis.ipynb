{
 "cells": [
  {
   "cell_type": "markdown",
   "metadata": {},
   "source": [
    "# TACO Inspection Demo\n",
    "\n",
    "This notebook contains several independent scripts that show how to load and visualize the dataset stats and annotated images:\n",
    "- Section 1 shows the dataset stats\n",
    "- Section 2 show the class hierarchical structure: super classes and classes\n",
    "- Section 3 shows TACO images along with their segmentation masks\n",
    "\n",
    "But first we need to load the annotations and some python libraries:"
   ]
  },
  {
   "cell_type": "code",
   "execution_count": 6,
   "metadata": {},
   "outputs": [
    {
     "name": "stdout",
     "output_type": "stream",
     "text": [
      "Number of super categories: 28\n",
      "Number of categories: 60\n",
      "Number of annotations: 4784\n",
      "Number of images: 1500\n"
     ]
    }
   ],
   "source": [
    "%matplotlib inline\n",
    "import json\n",
    "import numpy as np\n",
    "import pandas as pd\n",
    "import matplotlib.pyplot as plt\n",
    "import seaborn as sns; sns.set()\n",
    "\n",
    "dataset_path = './data'\n",
    "anns_file_path = dataset_path + '/' + 'annotations.json'\n",
    "\n",
    "# Read annotations\n",
    "with open(anns_file_path, 'r') as f:\n",
    "    dataset = json.loads(f.read())\n",
    "\n",
    "categories = dataset['categories']\n",
    "anns = dataset['annotations']\n",
    "imgs = dataset['images']\n",
    "nr_cats = len(categories)\n",
    "nr_annotations = len(anns)\n",
    "nr_images = len(imgs)\n",
    "\n",
    "# Load categories and super categories\n",
    "cat_names = []\n",
    "super_cat_names = []\n",
    "super_cat_ids = {}\n",
    "super_cat_last_name = ''\n",
    "nr_super_cats = 0\n",
    "for cat_it in categories:\n",
    "    cat_names.append(cat_it['name'])\n",
    "    super_cat_name = cat_it['supercategory']\n",
    "    # Adding new supercat\n",
    "    if super_cat_name != super_cat_last_name:\n",
    "        super_cat_names.append(super_cat_name)\n",
    "        super_cat_ids[super_cat_name] = nr_super_cats\n",
    "        super_cat_last_name = super_cat_name\n",
    "        nr_super_cats += 1\n",
    "\n",
    "print('Number of super categories:', nr_super_cats)\n",
    "print('Number of categories:', nr_cats)\n",
    "print('Number of annotations:', nr_annotations)\n",
    "print('Number of images:', nr_images)"
   ]
  },
  {
   "cell_type": "code",
   "execution_count": 7,
   "metadata": {},
   "outputs": [
    {
     "name": "stdout",
     "output_type": "stream",
     "text": [
      "Number of super categories: 0\n",
      "Number of categories: 2\n",
      "Number of annotations: 793\n",
      "Number of images: 43\n"
     ]
    }
   ],
   "source": [
    "# Same but for the custom dataset for the ARC project\n",
    "dataset_path = './segments/festay_arc_litter/v2.1'\n",
    "anns_file_path = './segments/festay_arc_litter/arc_litter-v2.1_coco.json'\n",
    "\n",
    "\n",
    "# Read annotations\n",
    "with open(anns_file_path, 'r') as f:\n",
    "    dataset = json.loads(f.read())\n",
    "\n",
    "categories = dataset['categories']\n",
    "anns = dataset['annotations']\n",
    "imgs = dataset['images']\n",
    "nr_cats = len(categories)\n",
    "nr_annotations = len(anns)\n",
    "nr_images = len(imgs)\n",
    "\n",
    "# Load categories and super categories\n",
    "cat_names = []\n",
    "super_cat_names = []\n",
    "super_cat_ids = {}\n",
    "super_cat_last_name = ''\n",
    "nr_super_cats = 0\n",
    "for cat_it in categories:\n",
    "    cat_names.append(cat_it['name'])\n",
    "    \n",
    "\n",
    "print('Number of super categories:', nr_super_cats)\n",
    "print('Number of categories:', nr_cats)\n",
    "print('Number of annotations:', nr_annotations)\n",
    "print('Number of images:', nr_images)"
   ]
  },
  {
   "cell_type": "markdown",
   "metadata": {},
   "source": [
    "## 1.  Dataset statistics\n",
    "\n",
    "This shows the number of annotations per category:"
   ]
  },
  {
   "cell_type": "code",
   "execution_count": 36,
   "metadata": {},
   "outputs": [
    {
     "data": {
      "text/plain": [
       "array([389, 404])"
      ]
     },
     "execution_count": 36,
     "metadata": {},
     "output_type": "execute_result"
    }
   ],
   "source": [
    "cat_histogram"
   ]
  },
  {
   "cell_type": "code",
   "execution_count": 34,
   "metadata": {},
   "outputs": [
    {
     "data": {
      "text/html": [
       "<div>\n",
       "<style scoped>\n",
       "    .dataframe tbody tr th:only-of-type {\n",
       "        vertical-align: middle;\n",
       "    }\n",
       "\n",
       "    .dataframe tbody tr th {\n",
       "        vertical-align: top;\n",
       "    }\n",
       "\n",
       "    .dataframe thead th {\n",
       "        text-align: right;\n",
       "    }\n",
       "</style>\n",
       "<table border=\"1\" class=\"dataframe\">\n",
       "  <thead>\n",
       "    <tr style=\"text-align: right;\">\n",
       "      <th></th>\n",
       "      <th>Categories</th>\n",
       "      <th>Number of annotations</th>\n",
       "    </tr>\n",
       "  </thead>\n",
       "  <tbody>\n",
       "    <tr>\n",
       "      <th>1</th>\n",
       "      <td>other litter</td>\n",
       "      <td>404</td>\n",
       "    </tr>\n",
       "    <tr>\n",
       "      <th>0</th>\n",
       "      <td>plastic litter</td>\n",
       "      <td>389</td>\n",
       "    </tr>\n",
       "  </tbody>\n",
       "</table>\n",
       "</div>"
      ],
      "text/plain": [
       "       Categories  Number of annotations\n",
       "1    other litter                    404\n",
       "0  plastic litter                    389"
      ]
     },
     "execution_count": 34,
     "metadata": {},
     "output_type": "execute_result"
    },
    {
     "data": {
      "image/png": "[encoded data removed]",
      "text/plain": [
       "<Figure size 360x1080 with 1 Axes>"
      ]
     },
     "metadata": {},
     "output_type": "display_data"
    }
   ],
   "source": [
    "# Count annotations\n",
    "cat_histogram = np.zeros(nr_cats,dtype=int)\n",
    "for ann in anns:\n",
    "    cat_histogram[ann['category_id']] += 1\n",
    "\n",
    "# Initialize the matplotlib figure\n",
    "f, ax = plt.subplots(figsize=(5,15))\n",
    "\n",
    "# Convert to DataFrame\n",
    "df = pd.DataFrame({'Categories': cat_names, 'Number of annotations': cat_histogram})\n",
    "df = df.sort_values('Number of annotations', 0, False)\n",
    "\n",
    "# Plot the histogram\n",
    "# sns.set_color_codes(\"pastel\")\n",
    "# sns.set(style=\"whitegrid\")\n",
    "plot_1 = sns.barplot(x=\"Number of annotations\", y=\"Categories\", data=df,\n",
    "            label=\"Total\", color=\"b\", orient=\"h\" )\n",
    "\n",
    "# fig = plot_1.get_figure()\n",
    "# fig.savefig(\"output.png\")\n",
    "\n"
   ]
  },
  {
   "cell_type": "markdown",
   "metadata": {},
   "source": [
    "and this shows the number of annotations per super category:"
   ]
  },
  {
   "cell_type": "code",
   "execution_count": 12,
   "metadata": {},
   "outputs": [
    {
     "ename": "KeyError",
     "evalue": "'supercategory'",
     "output_type": "error",
     "traceback": [
      "\u001b[0;31m---------------------------------------------------------------------------\u001b[0m",
      "\u001b[0;31mKeyError\u001b[0m                                  Traceback (most recent call last)",
      "\u001b[0;32m<ipython-input-12-85a0e54bad70>\u001b[0m in \u001b[0;36m<module>\u001b[0;34m\u001b[0m\n\u001b[1;32m      1\u001b[0m \u001b[0mcat_ids_2_supercat_ids\u001b[0m \u001b[0;34m=\u001b[0m \u001b[0;34m{\u001b[0m\u001b[0;34m}\u001b[0m\u001b[0;34m\u001b[0m\u001b[0;34m\u001b[0m\u001b[0m\n\u001b[1;32m      2\u001b[0m \u001b[0;32mfor\u001b[0m \u001b[0mcat\u001b[0m \u001b[0;32min\u001b[0m \u001b[0mcategories\u001b[0m\u001b[0;34m:\u001b[0m\u001b[0;34m\u001b[0m\u001b[0;34m\u001b[0m\u001b[0m\n\u001b[0;32m----> 3\u001b[0;31m     \u001b[0mcat_ids_2_supercat_ids\u001b[0m\u001b[0;34m[\u001b[0m\u001b[0mcat\u001b[0m\u001b[0;34m[\u001b[0m\u001b[0;34m'id'\u001b[0m\u001b[0;34m]\u001b[0m\u001b[0;34m]\u001b[0m \u001b[0;34m=\u001b[0m \u001b[0msuper_cat_ids\u001b[0m\u001b[0;34m[\u001b[0m\u001b[0mcat\u001b[0m\u001b[0;34m[\u001b[0m\u001b[0;34m'supercategory'\u001b[0m\u001b[0;34m]\u001b[0m\u001b[0;34m]\u001b[0m\u001b[0;34m\u001b[0m\u001b[0;34m\u001b[0m\u001b[0m\n\u001b[0m\u001b[1;32m      4\u001b[0m \u001b[0;34m\u001b[0m\u001b[0m\n\u001b[1;32m      5\u001b[0m \u001b[0;31m# Count annotations\u001b[0m\u001b[0;34m\u001b[0m\u001b[0;34m\u001b[0m\u001b[0;34m\u001b[0m\u001b[0m\n",
      "\u001b[0;31mKeyError\u001b[0m: 'supercategory'"
     ]
    }
   ],
   "source": [
    "cat_ids_2_supercat_ids = {}\n",
    "for cat in categories:\n",
    "    cat_ids_2_supercat_ids[cat['id']] = super_cat_ids[cat['supercategory']]\n",
    "\n",
    "# Count annotations\n",
    "super_cat_histogram = np.zeros(nr_super_cats,dtype=int)\n",
    "for ann in anns:\n",
    "    cat_id = ann['category_id']\n",
    "    super_cat_histogram[cat_ids_2_supercat_ids[cat_id]] +=1\n",
    "    \n",
    "# Initialize the matplotlib figure\n",
    "f, ax = plt.subplots(figsize=(5,10))\n",
    "\n",
    "# Convert to DataFrame\n",
    "d ={'Super categories': super_cat_names, 'Number of annotations': super_cat_histogram}\n",
    "df = pd.DataFrame(d)\n",
    "df = df.sort_values('Number of annotations', 0, False)\n",
    "\n",
    "# sns.set_color_codes(\"pastel\")\n",
    "# sns.set(style=\"whitegrid\")\n",
    "plot_1 = sns.barplot(x=\"Number of annotations\", y=\"Super categories\", data=df,\n",
    "            label=\"Total\", color=\"b\", orient=1)\n",
    "#plot_1.set_title('Annotations per super category',fontsize=20)   "
   ]
  },
  {
   "cell_type": "markdown",
   "metadata": {},
   "source": [
    "### 1.1  Background stats"
   ]
  },
  {
   "cell_type": "code",
   "execution_count": null,
   "metadata": {},
   "outputs": [],
   "source": []
  },
  {
   "cell_type": "markdown",
   "metadata": {},
   "source": [
    "## 2. Visualize dataset graph"
   ]
  },
  {
   "cell_type": "code",
   "execution_count": 18,
   "metadata": {
    "scrolled": false
   },
   "outputs": [
    {
     "data": {
      "image/svg+xml": [
       "<?xml version=\"1.0\" encoding=\"UTF-8\" standalone=\"no\"?>\n",
       "<!DOCTYPE svg PUBLIC \"-//W3C//DTD SVG 1.1//EN\"\n",
       " \"http://www.w3.org/Graphics/SVG/1.1/DTD/svg11.dtd\">\n",
       "<!-- Generated by graphviz version 2.40.1 (20161225.0304)\n",
       " -->\n",
       "<!-- Title: Dataset graph Pages: 1 -->\n",
       "<svg width=\"113pt\" height=\"98pt\"\n",
       " viewBox=\"0.00 0.00 113.29 98.00\" xmlns=\"http://www.w3.org/2000/svg\" xmlns:xlink=\"http://www.w3.org/1999/xlink\">\n",
       "<g id=\"graph0\" class=\"graph\" transform=\"scale(1 1) rotate(0) translate(4 94)\">\n",
       "<title>Dataset graph</title>\n",
       "<polygon fill=\"#ffffff\" stroke=\"transparent\" points=\"-4,4 -4,-94 109.2907,-94 109.2907,4 -4,4\"/>\n",
       "<!-- plastic litter -->\n",
       "<g id=\"node1\" class=\"node\">\n",
       "<title>plastic litter</title>\n",
       "<ellipse fill=\"none\" stroke=\"#000000\" cx=\"52.6453\" cy=\"-18\" rx=\"52.7911\" ry=\"18\"/>\n",
       "<text text-anchor=\"middle\" x=\"52.6453\" y=\"-14.3\" font-family=\"Times,serif\" font-size=\"14.00\" fill=\"#000000\">plastic litter</text>\n",
       "</g>\n",
       "<!-- other litter -->\n",
       "<g id=\"node2\" class=\"node\">\n",
       "<title>other litter</title>\n",
       "<ellipse fill=\"none\" stroke=\"#000000\" cx=\"52.6453\" cy=\"-72\" rx=\"48.1917\" ry=\"18\"/>\n",
       "<text text-anchor=\"middle\" x=\"52.6453\" y=\"-68.3\" font-family=\"Times,serif\" font-size=\"14.00\" fill=\"#000000\">other litter</text>\n",
       "</g>\n",
       "</g>\n",
       "</svg>\n"
      ],
      "text/plain": [
       "<graphviz.dot.Digraph at 0x7f0a8fc47c10>"
      ]
     },
     "execution_count": 18,
     "metadata": {},
     "output_type": "execute_result"
    }
   ],
   "source": [
    "from graphviz import Digraph\n",
    "# Note: graphviz may require more than pip installation due to path issue: e.g. brew install graphviz for mac\n",
    "\n",
    "#g = Digraph('G', filename='hello.gv')\n",
    "dot = Digraph('Dataset graph', filename='asd.gv')\n",
    "dot.attr(rankdir='LR', size='8,10')\n",
    "\n",
    "for cat_it in categories:\n",
    "    dot.node(cat_it['name'])\n",
    "    \n",
    "dot\n",
    "# Uncomment next line to print pdf\n",
    "#dot.view()"
   ]
  },
  {
   "cell_type": "markdown",
   "metadata": {},
   "source": [
    "## 3. Visualize Annotated Images"
   ]
  },
  {
   "cell_type": "markdown",
   "metadata": {},
   "source": [
    "For simplicity, to select and show the dataset images with the respective masks, we make use of the COCO API.\n",
    "The script below shows how to load and visualize an image with all its annotations.\n",
    "\n",
    "Unfortunately, several python libraries do not take into account the EXIF orientation tag, thus we have to explicitly rotate the images. Alternatively you can use instead OpenCV."
   ]
  },
  {
   "cell_type": "code",
   "execution_count": 19,
   "metadata": {},
   "outputs": [
    {
     "name": "stdout",
     "output_type": "stream",
     "text": [
      "loading annotations into memory...\n",
      "Done (t=0.01s)\n",
      "creating index...\n",
      "index created!\n",
      "Incorrect file name\n"
     ]
    }
   ],
   "source": [
    "from PIL import Image, ExifTags\n",
    "from pycocotools.coco import COCO\n",
    "from matplotlib.patches import Polygon, Rectangle\n",
    "from matplotlib.collections import PatchCollection\n",
    "import colorsys\n",
    "import random\n",
    "import pylab\n",
    "\n",
    "# User settings\n",
    "image_filepath = 'batch_11/000028.jpg'\n",
    "pylab.rcParams['figure.figsize'] = (28,28)\n",
    "####################\n",
    "\n",
    "# Obtain Exif orientation tag code\n",
    "for orientation in ExifTags.TAGS.keys():\n",
    "    if ExifTags.TAGS[orientation] == 'Orientation':\n",
    "        break\n",
    "\n",
    "# Loads dataset as a coco object\n",
    "coco = COCO(anns_file_path)\n",
    "\n",
    "# Find image id\n",
    "img_id = -1\n",
    "for img in imgs:\n",
    "    if img['file_name'] == image_filepath:\n",
    "        img_id = img['id']\n",
    "        break\n",
    "\n",
    "# Show image and corresponding annotations\n",
    "if img_id == -1:\n",
    "    print('Incorrect file name')\n",
    "else:\n",
    "\n",
    "    # Load image\n",
    "    print(image_filepath)\n",
    "    I = Image.open(dataset_path + '/' + image_filepath)\n",
    "\n",
    "    # Load and process image metadata\n",
    "    if I._getexif():\n",
    "        exif = dict(I._getexif().items())\n",
    "        # Rotate portrait and upside down images if necessary\n",
    "        if orientation in exif:\n",
    "            if exif[orientation] == 3:\n",
    "                I = I.rotate(180,expand=True)\n",
    "            if exif[orientation] == 6:\n",
    "                I = I.rotate(270,expand=True)\n",
    "            if exif[orientation] == 8:\n",
    "                I = I.rotate(90,expand=True)\n",
    "\n",
    "    # Show image\n",
    "    fig,ax = plt.subplots(1)\n",
    "    plt.axis('off')\n",
    "    plt.imshow(I)\n",
    "\n",
    "    # Load mask ids\n",
    "    annIds = coco.getAnnIds(imgIds=img_id, catIds=[], iscrowd=None)\n",
    "    anns_sel = coco.loadAnns(annIds)\n",
    "\n",
    "    # Show annotations\n",
    "    for ann in anns_sel:\n",
    "        color = colorsys.hsv_to_rgb(np.random.random(),1,1)\n",
    "        for seg in ann['segmentation']:\n",
    "            poly = Polygon(np.array(seg).reshape((int(len(seg)/2), 2)))\n",
    "            p = PatchCollection([poly], facecolor=color, edgecolors=color,linewidths=0, alpha=0.4)\n",
    "            ax.add_collection(p)\n",
    "            p = PatchCollection([poly], facecolor='none', edgecolors=color, linewidths=2)\n",
    "            ax.add_collection(p)\n",
    "        [x, y, w, h] = ann['bbox']\n",
    "        rect = Rectangle((x,y),w,h,linewidth=2,edgecolor=color,\n",
    "                         facecolor='none', alpha=0.7, linestyle = '--')\n",
    "        ax.add_patch(rect)\n",
    "\n",
    "    plt.show()\n",
    "\n"
   ]
  },
  {
   "cell_type": "markdown",
   "metadata": {},
   "source": [
    "The script below shows how to filter images by either category or supercategory.\n",
    "\n",
    "Go ahead and try different (super)categories searches by changing the `category_name`.\n",
    "Note that small objects may be hard to see."
   ]
  },
  {
   "cell_type": "code",
   "execution_count": 17,
   "metadata": {
    "scrolled": false
   },
   "outputs": [
    {
     "name": "stdout",
     "output_type": "stream",
     "text": [
      "loading annotations into memory...\n",
      "Done (t=0.01s)\n",
      "creating index...\n",
      "index created!\n"
     ]
    },
    {
     "ename": "KeyError",
     "evalue": "'supercategory'",
     "output_type": "error",
     "traceback": [
      "\u001b[0;31m---------------------------------------------------------------------------\u001b[0m",
      "\u001b[0;31mKeyError\u001b[0m                                  Traceback (most recent call last)",
      "\u001b[0;32m<ipython-input-17-901a63a26b40>\u001b[0m in \u001b[0;36m<module>\u001b[0;34m\u001b[0m\n\u001b[1;32m     29\u001b[0m \u001b[0;32melse\u001b[0m\u001b[0;34m:\u001b[0m\u001b[0;34m\u001b[0m\u001b[0;34m\u001b[0m\u001b[0m\n\u001b[1;32m     30\u001b[0m     \u001b[0;31m# Get all images containing an instance of the chosen super category\u001b[0m\u001b[0;34m\u001b[0m\u001b[0;34m\u001b[0m\u001b[0;34m\u001b[0m\u001b[0m\n\u001b[0;32m---> 31\u001b[0;31m     \u001b[0mcatIds\u001b[0m \u001b[0;34m=\u001b[0m \u001b[0mcoco\u001b[0m\u001b[0;34m.\u001b[0m\u001b[0mgetCatIds\u001b[0m\u001b[0;34m(\u001b[0m\u001b[0msupNms\u001b[0m\u001b[0;34m=\u001b[0m\u001b[0;34m[\u001b[0m\u001b[0mcategory_name\u001b[0m\u001b[0;34m]\u001b[0m\u001b[0;34m)\u001b[0m\u001b[0;34m\u001b[0m\u001b[0;34m\u001b[0m\u001b[0m\n\u001b[0m\u001b[1;32m     32\u001b[0m     \u001b[0;32mfor\u001b[0m \u001b[0mcatId\u001b[0m \u001b[0;32min\u001b[0m \u001b[0mcatIds\u001b[0m\u001b[0;34m:\u001b[0m\u001b[0;34m\u001b[0m\u001b[0;34m\u001b[0m\u001b[0m\n\u001b[1;32m     33\u001b[0m         \u001b[0mimgIds\u001b[0m \u001b[0;34m+=\u001b[0m \u001b[0;34m(\u001b[0m\u001b[0mcoco\u001b[0m\u001b[0;34m.\u001b[0m\u001b[0mgetImgIds\u001b[0m\u001b[0;34m(\u001b[0m\u001b[0mcatIds\u001b[0m\u001b[0;34m=\u001b[0m\u001b[0mcatId\u001b[0m\u001b[0;34m)\u001b[0m\u001b[0;34m)\u001b[0m\u001b[0;34m\u001b[0m\u001b[0;34m\u001b[0m\u001b[0m\n",
      "\u001b[0;32m~/anaconda3/envs/arcnet/lib/python3.8/site-packages/pycocotools/coco.py\u001b[0m in \u001b[0;36mgetCatIds\u001b[0;34m(self, catNms, supNms, catIds)\u001b[0m\n\u001b[1;32m    173\u001b[0m             \u001b[0mcats\u001b[0m \u001b[0;34m=\u001b[0m \u001b[0mself\u001b[0m\u001b[0;34m.\u001b[0m\u001b[0mdataset\u001b[0m\u001b[0;34m[\u001b[0m\u001b[0;34m'categories'\u001b[0m\u001b[0;34m]\u001b[0m\u001b[0;34m\u001b[0m\u001b[0;34m\u001b[0m\u001b[0m\n\u001b[1;32m    174\u001b[0m             \u001b[0mcats\u001b[0m \u001b[0;34m=\u001b[0m \u001b[0mcats\u001b[0m \u001b[0;32mif\u001b[0m \u001b[0mlen\u001b[0m\u001b[0;34m(\u001b[0m\u001b[0mcatNms\u001b[0m\u001b[0;34m)\u001b[0m \u001b[0;34m==\u001b[0m \u001b[0;36m0\u001b[0m \u001b[0;32melse\u001b[0m \u001b[0;34m[\u001b[0m\u001b[0mcat\u001b[0m \u001b[0;32mfor\u001b[0m \u001b[0mcat\u001b[0m \u001b[0;32min\u001b[0m \u001b[0mcats\u001b[0m \u001b[0;32mif\u001b[0m \u001b[0mcat\u001b[0m\u001b[0;34m[\u001b[0m\u001b[0;34m'name'\u001b[0m\u001b[0;34m]\u001b[0m          \u001b[0;32min\u001b[0m \u001b[0mcatNms\u001b[0m\u001b[0;34m]\u001b[0m\u001b[0;34m\u001b[0m\u001b[0;34m\u001b[0m\u001b[0m\n\u001b[0;32m--> 175\u001b[0;31m             \u001b[0mcats\u001b[0m \u001b[0;34m=\u001b[0m \u001b[0mcats\u001b[0m \u001b[0;32mif\u001b[0m \u001b[0mlen\u001b[0m\u001b[0;34m(\u001b[0m\u001b[0msupNms\u001b[0m\u001b[0;34m)\u001b[0m \u001b[0;34m==\u001b[0m \u001b[0;36m0\u001b[0m \u001b[0;32melse\u001b[0m \u001b[0;34m[\u001b[0m\u001b[0mcat\u001b[0m \u001b[0;32mfor\u001b[0m \u001b[0mcat\u001b[0m \u001b[0;32min\u001b[0m \u001b[0mcats\u001b[0m \u001b[0;32mif\u001b[0m \u001b[0mcat\u001b[0m\u001b[0;34m[\u001b[0m\u001b[0;34m'supercategory'\u001b[0m\u001b[0;34m]\u001b[0m \u001b[0;32min\u001b[0m \u001b[0msupNms\u001b[0m\u001b[0;34m]\u001b[0m\u001b[0;34m\u001b[0m\u001b[0;34m\u001b[0m\u001b[0m\n\u001b[0m\u001b[1;32m    176\u001b[0m             \u001b[0mcats\u001b[0m \u001b[0;34m=\u001b[0m \u001b[0mcats\u001b[0m \u001b[0;32mif\u001b[0m \u001b[0mlen\u001b[0m\u001b[0;34m(\u001b[0m\u001b[0mcatIds\u001b[0m\u001b[0;34m)\u001b[0m \u001b[0;34m==\u001b[0m \u001b[0;36m0\u001b[0m \u001b[0;32melse\u001b[0m \u001b[0;34m[\u001b[0m\u001b[0mcat\u001b[0m \u001b[0;32mfor\u001b[0m \u001b[0mcat\u001b[0m \u001b[0;32min\u001b[0m \u001b[0mcats\u001b[0m \u001b[0;32mif\u001b[0m \u001b[0mcat\u001b[0m\u001b[0;34m[\u001b[0m\u001b[0;34m'id'\u001b[0m\u001b[0;34m]\u001b[0m            \u001b[0;32min\u001b[0m \u001b[0mcatIds\u001b[0m\u001b[0;34m]\u001b[0m\u001b[0;34m\u001b[0m\u001b[0;34m\u001b[0m\u001b[0m\n\u001b[1;32m    177\u001b[0m         \u001b[0mids\u001b[0m \u001b[0;34m=\u001b[0m \u001b[0;34m[\u001b[0m\u001b[0mcat\u001b[0m\u001b[0;34m[\u001b[0m\u001b[0;34m'id'\u001b[0m\u001b[0;34m]\u001b[0m \u001b[0;32mfor\u001b[0m \u001b[0mcat\u001b[0m \u001b[0;32min\u001b[0m \u001b[0mcats\u001b[0m\u001b[0;34m]\u001b[0m\u001b[0;34m\u001b[0m\u001b[0;34m\u001b[0m\u001b[0m\n",
      "\u001b[0;32m~/anaconda3/envs/arcnet/lib/python3.8/site-packages/pycocotools/coco.py\u001b[0m in \u001b[0;36m<listcomp>\u001b[0;34m(.0)\u001b[0m\n\u001b[1;32m    173\u001b[0m             \u001b[0mcats\u001b[0m \u001b[0;34m=\u001b[0m \u001b[0mself\u001b[0m\u001b[0;34m.\u001b[0m\u001b[0mdataset\u001b[0m\u001b[0;34m[\u001b[0m\u001b[0;34m'categories'\u001b[0m\u001b[0;34m]\u001b[0m\u001b[0;34m\u001b[0m\u001b[0;34m\u001b[0m\u001b[0m\n\u001b[1;32m    174\u001b[0m             \u001b[0mcats\u001b[0m \u001b[0;34m=\u001b[0m \u001b[0mcats\u001b[0m \u001b[0;32mif\u001b[0m \u001b[0mlen\u001b[0m\u001b[0;34m(\u001b[0m\u001b[0mcatNms\u001b[0m\u001b[0;34m)\u001b[0m \u001b[0;34m==\u001b[0m \u001b[0;36m0\u001b[0m \u001b[0;32melse\u001b[0m \u001b[0;34m[\u001b[0m\u001b[0mcat\u001b[0m \u001b[0;32mfor\u001b[0m \u001b[0mcat\u001b[0m \u001b[0;32min\u001b[0m \u001b[0mcats\u001b[0m \u001b[0;32mif\u001b[0m \u001b[0mcat\u001b[0m\u001b[0;34m[\u001b[0m\u001b[0;34m'name'\u001b[0m\u001b[0;34m]\u001b[0m          \u001b[0;32min\u001b[0m \u001b[0mcatNms\u001b[0m\u001b[0;34m]\u001b[0m\u001b[0;34m\u001b[0m\u001b[0;34m\u001b[0m\u001b[0m\n\u001b[0;32m--> 175\u001b[0;31m             \u001b[0mcats\u001b[0m \u001b[0;34m=\u001b[0m \u001b[0mcats\u001b[0m \u001b[0;32mif\u001b[0m \u001b[0mlen\u001b[0m\u001b[0;34m(\u001b[0m\u001b[0msupNms\u001b[0m\u001b[0;34m)\u001b[0m \u001b[0;34m==\u001b[0m \u001b[0;36m0\u001b[0m \u001b[0;32melse\u001b[0m \u001b[0;34m[\u001b[0m\u001b[0mcat\u001b[0m \u001b[0;32mfor\u001b[0m \u001b[0mcat\u001b[0m \u001b[0;32min\u001b[0m \u001b[0mcats\u001b[0m \u001b[0;32mif\u001b[0m \u001b[0mcat\u001b[0m\u001b[0;34m[\u001b[0m\u001b[0;34m'supercategory'\u001b[0m\u001b[0;34m]\u001b[0m \u001b[0;32min\u001b[0m \u001b[0msupNms\u001b[0m\u001b[0;34m]\u001b[0m\u001b[0;34m\u001b[0m\u001b[0;34m\u001b[0m\u001b[0m\n\u001b[0m\u001b[1;32m    176\u001b[0m             \u001b[0mcats\u001b[0m \u001b[0;34m=\u001b[0m \u001b[0mcats\u001b[0m \u001b[0;32mif\u001b[0m \u001b[0mlen\u001b[0m\u001b[0;34m(\u001b[0m\u001b[0mcatIds\u001b[0m\u001b[0;34m)\u001b[0m \u001b[0;34m==\u001b[0m \u001b[0;36m0\u001b[0m \u001b[0;32melse\u001b[0m \u001b[0;34m[\u001b[0m\u001b[0mcat\u001b[0m \u001b[0;32mfor\u001b[0m \u001b[0mcat\u001b[0m \u001b[0;32min\u001b[0m \u001b[0mcats\u001b[0m \u001b[0;32mif\u001b[0m \u001b[0mcat\u001b[0m\u001b[0;34m[\u001b[0m\u001b[0;34m'id'\u001b[0m\u001b[0;34m]\u001b[0m            \u001b[0;32min\u001b[0m \u001b[0mcatIds\u001b[0m\u001b[0;34m]\u001b[0m\u001b[0;34m\u001b[0m\u001b[0;34m\u001b[0m\u001b[0m\n\u001b[1;32m    177\u001b[0m         \u001b[0mids\u001b[0m \u001b[0;34m=\u001b[0m \u001b[0;34m[\u001b[0m\u001b[0mcat\u001b[0m\u001b[0;34m[\u001b[0m\u001b[0;34m'id'\u001b[0m\u001b[0;34m]\u001b[0m \u001b[0;32mfor\u001b[0m \u001b[0mcat\u001b[0m \u001b[0;32min\u001b[0m \u001b[0mcats\u001b[0m\u001b[0;34m]\u001b[0m\u001b[0;34m\u001b[0m\u001b[0;34m\u001b[0m\u001b[0m\n",
      "\u001b[0;31mKeyError\u001b[0m: 'supercategory'"
     ]
    }
   ],
   "source": [
    "from PIL import Image, ExifTags\n",
    "from pycocotools.coco import COCO\n",
    "from matplotlib.patches import Polygon, Rectangle\n",
    "from matplotlib.collections import PatchCollection\n",
    "import colorsys\n",
    "import random\n",
    "import pylab\n",
    "\n",
    "# User settings\n",
    "nr_img_2_display = 10\n",
    "category_name = 'Bottle'#  --- Insert the name of one of the categories or super-categories above\n",
    "pylab.rcParams['figure.figsize'] = (14,14)\n",
    "####################\n",
    "\n",
    "# Obtain Exif orientation tag code\n",
    "for orientation in ExifTags.TAGS.keys():\n",
    "    if ExifTags.TAGS[orientation] == 'Orientation':\n",
    "        break\n",
    "\n",
    "# Loads dataset as a coco object\n",
    "coco = COCO(anns_file_path)\n",
    "\n",
    "# Get image ids\n",
    "imgIds = []\n",
    "catIds = coco.getCatIds(catNms=[category_name])\n",
    "if catIds:\n",
    "    # Get all images containing an instance of the chosen category\n",
    "    imgIds = coco.getImgIds(catIds=catIds)\n",
    "else:\n",
    "    # Get all images containing an instance of the chosen super category\n",
    "    catIds = coco.getCatIds(supNms=[category_name])\n",
    "    for catId in catIds:\n",
    "        imgIds += (coco.getImgIds(catIds=catId))\n",
    "    imgIds = list(set(imgIds))\n",
    "\n",
    "nr_images_found = len(imgIds) \n",
    "print('Number of images found: ',nr_images_found)\n",
    "\n",
    "# Select N random images\n",
    "random.shuffle(imgIds)\n",
    "imgs = coco.loadImgs(imgIds[0:min(nr_img_2_display,nr_images_found)])\n",
    "\n",
    "for img in imgs:\n",
    "    image_path = dataset_path + '/' + img['file_name']\n",
    "    # Load image\n",
    "    I = Image.open(image_path)\n",
    "    \n",
    "    # Load and process image metadata\n",
    "    if I._getexif():\n",
    "        exif = dict(I._getexif().items())\n",
    "        # Rotate portrait and upside down images if necessary\n",
    "        if orientation in exif:\n",
    "            if exif[orientation] == 3:\n",
    "                I = I.rotate(180,expand=True)\n",
    "            if exif[orientation] == 6:\n",
    "                I = I.rotate(270,expand=True)\n",
    "            if exif[orientation] == 8:\n",
    "                I = I.rotate(90,expand=True)\n",
    "    \n",
    "    # Show image\n",
    "    fig,ax = plt.subplots(1)\n",
    "    plt.axis('off')\n",
    "    plt.imshow(I)\n",
    "\n",
    "    # Load mask ids\n",
    "    annIds = coco.getAnnIds(imgIds=img['id'], catIds=catIds, iscrowd=None)\n",
    "    anns_sel = coco.loadAnns(annIds)\n",
    "    \n",
    "    # Show annotations\n",
    "    for ann in anns_sel:\n",
    "        color = colorsys.hsv_to_rgb(np.random.random(),1,1)\n",
    "        for seg in ann['segmentation']:\n",
    "            poly = Polygon(np.array(seg).reshape((int(len(seg)/2), 2)))\n",
    "            p = PatchCollection([poly], facecolor=color, edgecolors=color,linewidths=0, alpha=0.4)\n",
    "            ax.add_collection(p)\n",
    "            p = PatchCollection([poly], facecolor='none', edgecolors=color, linewidths=2)\n",
    "            ax.add_collection(p)\n",
    "        [x, y, w, h] = ann['bbox']\n",
    "        rect = Rectangle((x,y),w,h,linewidth=2,edgecolor=color,\n",
    "                         facecolor='none', alpha=0.7, linestyle = '--')\n",
    "        ax.add_patch(rect)\n",
    "\n",
    "    plt.show()\n"
   ]
  },
  {
   "cell_type": "code",
   "execution_count": null,
   "metadata": {},
   "outputs": [],
   "source": []
  }
 ],
 "metadata": {
  "kernelspec": {
   "display_name": "Python 3",
   "language": "python",
   "name": "python3"
  },
  "language_info": {
   "codemirror_mode": {
    "name": "ipython",
    "version": 3
   },
   "file_extension": ".py",
   "mimetype": "text/x-python",
   "name": "python",
   "nbconvert_exporter": "python",
   "pygments_lexer": "ipython3",
   "version": "3.8.5"
  }
 },
 "nbformat": 4,
 "nbformat_minor": 2
}
