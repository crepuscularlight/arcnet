{
 "cells": [
  {
   "cell_type": "code",
   "execution_count": null,
   "metadata": {},
   "outputs": [],
   "source": [
    "import pandas as pd\n",
    "import numpy as np\n",
    "import json "
   ]
  },
  {
   "cell_type": "code",
   "execution_count": null,
   "metadata": {},
   "outputs": [],
   "source": [
    "def load_json_arr(json_path):\n",
    "    lines = []\n",
    "    with open(json_path, 'r') as f:\n",
    "        for line in f:\n",
    "            lines.append(json.loads(line))\n",
    "    return lines"
   ]
  },
  {
   "cell_type": "code",
   "execution_count": null,
   "metadata": {},
   "outputs": [],
   "source": [
    "experiment_folder = './output'\n",
    "freeze_stages = [1,2,3,4,5]\n",
    "LRs = [0.01,0.005,0.0025,0.001]\n",
    "kfold_num = 5\n",
    "\n",
    "metric_keys = ['bbox/AP', 'bbox/AP50', 'bbox/AP75', 'bbox/APl', 'bbox/APm', 'bbox/APs', 'segm/AP',\n",
    "               'segm/AP50', 'segm/AP75', 'segm/APl', 'segm/APm', 'segm/APs', 'mask_rcnn/accuracy',\n",
    "               'mask_rcnn/false_negative', 'mask_rcnn/false_positive']\n",
    "\n",
    "results_df = pd.DataFrame(columns=['Freeze','LR','KFold','bbox/AP', 'bbox/AP50', 'bbox/AP75', 'bbox/APl', 'bbox/APm', 'bbox/APs', 'segm/AP',\n",
    "               'segm/AP50', 'segm/AP75', 'segm/APl', 'segm/APm', 'segm/APs', 'mask_rcnn/accuracy',\n",
    "               'mask_rcnn/false_negative', 'mask_rcnn/false_positive'])"
   ]
  },
  {
   "cell_type": "code",
   "execution_count": null,
   "metadata": {},
   "outputs": [],
   "source": [
    "results_df"
   ]
  },
  {
   "cell_type": "code",
   "execution_count": null,
   "metadata": {},
   "outputs": [],
   "source": [
    "import shutil"
   ]
  },
  {
   "cell_type": "code",
   "execution_count": null,
   "metadata": {
    "scrolled": true
   },
   "outputs": [],
   "source": [
    "interim_results_df = results_df\n",
    "kfold_results_df = results_df\n",
    "k_fold_num = 5\n",
    "for freeze in freeze_stages:\n",
    "    for lr in LRs:\n",
    "        #cfg.SOLVER.BASE_LR = lr\n",
    "        #cfg.MODEL.BACKBONE.FREEZE_AT = freeze\n",
    "        for kfold in range(kfold_num):\n",
    "            print(f\"Starting {kfold+1} of {k_fold_num} - Freeze={freeze} ,validation at LR={lr}\")\n",
    "\n",
    "            # Registering and using each training dataset.\n",
    "            #ann_train = \"ann\"+str(data_num)+\"map\"+str(args.class_num)+\"train.json\"\n",
    "            #register_coco_instances(\"taco_kfold_train\", {}, args.data_dir + \"/\" + ann_train, args.data_dir)\n",
    "            #dataset_kfold_train = DatasetCatalog.get(\"taco_kfold_train\")\n",
    "            #cfg = get_cfg()\n",
    "            #cfg.merge_from_file(model_zoo.get_config_file(\"COCO-InstanceSegmentation/mask_rcnn_R_50_FPN_3x.yaml\"))\n",
    "            #cfg.DATASETS.TRAIN = (\"taco_kfold_train\",)\n",
    "\n",
    "            #trainer = DefaultTrainer(cfg)\n",
    "            # Train all combinations and save the best AP value for each.\n",
    "            #trainer.resume_or_load(resume=False)\n",
    "            #trainer.train()\n",
    "\n",
    "            # load the information from the metrics.json and save the mAP, AP50, AP75, class_accy, mask_rcnn_accy\n",
    "            exp_metrics = load_json_arr(experiment_folder + '/metrics.json')\n",
    "\n",
    "\n",
    "            # loading all metrics in the metrics.json folder\n",
    "            x = []\n",
    "            for metric in metric_keys:\n",
    "                # Getting metric values, getting the avg of last three in list\n",
    "                x.append(([x[metric] for x in exp_metrics if metric in x][-1]))\n",
    "                print(metric)\n",
    "                print([x[metric] for x in exp_metrics if metric in x])\n",
    "                print('\\n')\n",
    "                print(x)\n",
    "            input()\n",
    "            row = pd.DataFrame(x,metric_keys).T\n",
    "            cross_val_df = pd.concat([results_df,row],0) # Adding metrics\n",
    "\n",
    "            cross_val_df['Freeze']= freeze\n",
    "            cross_val_df['LR'] = lr\n",
    "            cross_val_df['KFold'] = kfold\n",
    "            \n",
    "            # Accummulating all results into a single dataframe. \n",
    "            interim_results_df = interim_results_df.append(cross_val_df)\n",
    "            \n",
    "            # Saving interim results in case it crashes later. \n",
    "    \n",
    "            interim_results_df.to_csv(\"kfold_results/\"+\"interim_freeze_\"+str(freeze)+\"_lr_\"+ str(lr)+\"_fold_\"+str(kfold)+\".csv\")\n",
    "            # Reset the metrics file by deleting the entry\n",
    "            shutil.copyfile(experiment_folder + '/metrics.json',experiment_folder + f'/metrics_FR{str(freeze)}_LR{str(lr)}_KF{str(kfold)}.json')\n",
    "            # os.remove(experiment_folder + '/metrics.json')\n",
    "            \n",
    "        last_5 = interim_results_df.tail(5)   \n",
    "        kfold_results_df = pd.concat([kfold_results_df,last_5.groupby('Freeze',as_index=False).mean()])\n",
    "        \n",
    "        kfold_results_df.to_csv(\"kfold_results/\"+\"kfold_freeze_\"+str(freeze)+\"_lr_\"+ str(lr)+\".csv\")"
   ]
  },
  {
   "cell_type": "code",
   "execution_count": null,
   "metadata": {},
   "outputs": [],
   "source": [
    "# We have 5 interim results after every cross validation, we need the mean of them all. "
   ]
  },
  {
   "cell_type": "code",
   "execution_count": null,
   "metadata": {},
   "outputs": [],
   "source": [
    "cross_val_df"
   ]
  },
  {
   "cell_type": "code",
   "execution_count": null,
   "metadata": {},
   "outputs": [],
   "source": [
    "interim_results_df"
   ]
  },
  {
   "cell_type": "code",
   "execution_count": null,
   "metadata": {},
   "outputs": [],
   "source": [
    "kfold_results_df"
   ]
  },
  {
   "cell_type": "code",
   "execution_count": null,
   "metadata": {},
   "outputs": [],
   "source": [
    "crossval_results_df"
   ]
  },
  {
   "cell_type": "code",
   "execution_count": null,
   "metadata": {},
   "outputs": [],
   "source": [
    "interim_results_df.groupby('Freeze',as_index=False).mean()"
   ]
  },
  {
   "cell_type": "code",
   "execution_count": null,
   "metadata": {},
   "outputs": [],
   "source": [
    "results_df = results_df.append(interim_results_df.groupby('Freeze',as_index=False).mean())"
   ]
  },
  {
   "cell_type": "code",
   "execution_count": null,
   "metadata": {},
   "outputs": [],
   "source": [
    "computed_results = interim_results_df.head(5)"
   ]
  },
  {
   "cell_type": "code",
   "execution_count": null,
   "metadata": {},
   "outputs": [],
   "source": [
    "computed_results.groupby('Freeze', as_index=False).mean()"
   ]
  },
  {
   "cell_type": "code",
   "execution_count": null,
   "metadata": {},
   "outputs": [],
   "source": []
  },
  {
   "cell_type": "code",
   "execution_count": null,
   "metadata": {},
   "outputs": [],
   "source": []
  },
  {
   "cell_type": "code",
   "execution_count": null,
   "metadata": {},
   "outputs": [],
   "source": [
    "a = cross_val_df\n",
    "b = pd.concat([a*2,a/4,a*7,a*a])"
   ]
  },
  {
   "cell_type": "code",
   "execution_count": null,
   "metadata": {},
   "outputs": [],
   "source": [
    "b"
   ]
  },
  {
   "cell_type": "code",
   "execution_count": null,
   "metadata": {},
   "outputs": [],
   "source": [
    "exp_metrics = load_json_arr(experiment_folder + '/metrics.json')"
   ]
  },
  {
   "cell_type": "code",
   "execution_count": null,
   "metadata": {},
   "outputs": [],
   "source": [
    "x = []\n",
    "for metric in metric_keys:\n",
    "    # Getting metric values, getting the avg of last three in list\n",
    "    x.append((sum([x[metric] for x in exp_metrics if metric in x][-3:])/3))\n",
    "row = pd.DataFrame(x,metric_keys).T\n",
    "cross_val_df = pd.concat([results_df,row],0)\n",
    "\n",
    "cross_val_df['Freeze']= freeze\n",
    "cross_val_df['LR'] = lr"
   ]
  },
  {
   "cell_type": "code",
   "execution_count": null,
   "metadata": {},
   "outputs": [],
   "source": []
  },
  {
   "cell_type": "code",
   "execution_count": null,
   "metadata": {},
   "outputs": [],
   "source": []
  },
  {
   "cell_type": "code",
   "execution_count": null,
   "metadata": {},
   "outputs": [],
   "source": [
    "cross_val_df.insert(0,'Freeze',2)"
   ]
  },
  {
   "cell_type": "code",
   "execution_count": null,
   "metadata": {},
   "outputs": [],
   "source": [
    "cross_val_df"
   ]
  },
  {
   "cell_type": "code",
   "execution_count": null,
   "metadata": {},
   "outputs": [],
   "source": [
    "df.to_csv(\"foo.csv\")"
   ]
  },
  {
   "cell_type": "markdown",
   "metadata": {},
   "source": [
    "# Plotting the metrics"
   ]
  },
  {
   "cell_type": "code",
   "execution_count": 19,
   "metadata": {},
   "outputs": [],
   "source": [
    "import pandas as pd\n",
    "import matplotlib.pyplot as plt\n",
    "from mpl_toolkits.mplot3d import Axes3D\n",
    "import numpy as np\n"
   ]
  },
  {
   "cell_type": "code",
   "execution_count": 69,
   "metadata": {},
   "outputs": [],
   "source": [
    "data = pd.read_csv(\"kfold_2class_results/kfold_freeze_5_lr_0.001.csv\")"
   ]
  },
  {
   "cell_type": "code",
   "execution_count": 106,
   "metadata": {
    "scrolled": true
   },
   "outputs": [],
   "source": [
    "data1 = pd.read_csv(\"kfold_1class_results/kfold_freeze_5_lr_0.001.csv\")"
   ]
  },
  {
   "cell_type": "code",
   "execution_count": 108,
   "metadata": {},
   "outputs": [],
   "source": [
    "x = data['Freeze'].to_numpy()\n",
    "y = data['LR'].to_numpy()\n",
    "z = data['bbox/AP'].to_numpy()\n",
    "\n",
    "x1 = data1['Freeze'].to_numpy()\n",
    "y1 = data1['LR'].to_numpy()\n",
    "z1 = data1['bbox/AP'].to_numpy()"
   ]
  },
  {
   "cell_type": "code",
   "execution_count": 109,
   "metadata": {},
   "outputs": [],
   "source": [
    "X,Y = np.meshgrid(x,y)"
   ]
  },
  {
   "cell_type": "code",
   "execution_count": null,
   "metadata": {},
   "outputs": [],
   "source": []
  },
  {
   "cell_type": "code",
   "execution_count": 120,
   "metadata": {},
   "outputs": [
    {
     "data": {
      "image/png": "[encoded data removed]",
      "text/plain": [
       "<Figure size 432x288 with 1 Axes>"
      ]
     },
     "metadata": {
      "needs_background": "light"
     },
     "output_type": "display_data"
    }
   ],
   "source": [
    "fig = plt.figure()\n",
    "ax = fig.add_subplot(111, projection='3d')\n",
    "ax.scatter(x1, y1, z1, zdir='z')\n",
    "ax.set_xlim3d(0, 4)\n",
    "ax.set_ylim3d(0.001, 0.01)\n",
    "ax.set_zlim3d(44,52)\n",
    "\n",
    "ax.view_init(10,10)\n",
    "\n",
    "ax.set_xlabel('Freeze Stage')\n",
    "ax.set_ylabel('Learning Rate')\n",
    "ax.set_zlabel('mean Average Precision')\n",
    "plt.savefig('scatterplot.png')"
   ]
  },
  {
   "cell_type": "code",
   "execution_count": 104,
   "metadata": {},
   "outputs": [
    {
     "data": {
      "image/png": "[encoded data removed]",
      "text/plain": [
       "<Figure size 432x288 with 1 Axes>"
      ]
     },
     "metadata": {
      "needs_background": "light"
     },
     "output_type": "display_data"
    }
   ],
   "source": [
    "fig = plt.figure()\n",
    "ax = fig.add_subplot(111, projection='3d')\n",
    "ax.scatter(x, y, z, zdir='z')\n",
    "ax.set_xlim3d(0, 4)\n",
    "ax.set_ylim3d(0.001, 0.01)\n",
    "ax.set_zlim3d(24,35)\n",
    "\n",
    "ax.view_init(10,30)\n",
    "\n",
    "ax.set_xlabel('Freeze Stage')\n",
    "ax.set_ylabel('Learning Rate')\n",
    "ax.set_zlabel('mean Average Precision')\n",
    "plt.savefig('scatterplot.png')"
   ]
  },
  {
   "cell_type": "code",
   "execution_count": 59,
   "metadata": {},
   "outputs": [
    {
     "ename": "NameError",
     "evalue": "name 'pylab' is not defined",
     "output_type": "error",
     "traceback": [
      "\u001b[0;31m---------------------------------------------------------------------------\u001b[0m",
      "\u001b[0;31mNameError\u001b[0m                                 Traceback (most recent call last)",
      "\u001b[0;32m<ipython-input-59-13e48637bd48>\u001b[0m in \u001b[0;36m<module>\u001b[0;34m\u001b[0m\n\u001b[1;32m      1\u001b[0m \u001b[0;32mfrom\u001b[0m \u001b[0mmpl_toolkits\u001b[0m\u001b[0;34m.\u001b[0m\u001b[0mmplot3d\u001b[0m \u001b[0;32mimport\u001b[0m \u001b[0mAxes3D\u001b[0m\u001b[0;34m\u001b[0m\u001b[0;34m\u001b[0m\u001b[0m\n\u001b[1;32m      2\u001b[0m \u001b[0mplt\u001b[0m\u001b[0;34m.\u001b[0m\u001b[0mclf\u001b[0m\u001b[0;34m(\u001b[0m\u001b[0;34m)\u001b[0m\u001b[0;34m\u001b[0m\u001b[0;34m\u001b[0m\u001b[0m\n\u001b[0;32m----> 3\u001b[0;31m \u001b[0mfig\u001b[0m \u001b[0;34m=\u001b[0m \u001b[0mpylab\u001b[0m\u001b[0;34m.\u001b[0m\u001b[0mfigure\u001b[0m\u001b[0;34m(\u001b[0m\u001b[0;34m)\u001b[0m\u001b[0;34m\u001b[0m\u001b[0;34m\u001b[0m\u001b[0m\n\u001b[0m\u001b[1;32m      4\u001b[0m \u001b[0max\u001b[0m \u001b[0;34m=\u001b[0m \u001b[0mAxes3D\u001b[0m\u001b[0;34m(\u001b[0m\u001b[0mfig\u001b[0m\u001b[0;34m)\u001b[0m\u001b[0;34m\u001b[0m\u001b[0;34m\u001b[0m\u001b[0m\n\u001b[1;32m      5\u001b[0m \u001b[0max\u001b[0m\u001b[0;34m.\u001b[0m\u001b[0mset_xlim3d\u001b[0m\u001b[0;34m(\u001b[0m\u001b[0;36m0\u001b[0m\u001b[0;34m,\u001b[0m \u001b[0;36m1000\u001b[0m\u001b[0;34m)\u001b[0m\u001b[0;34m\u001b[0m\u001b[0;34m\u001b[0m\u001b[0m\n",
      "\u001b[0;31mNameError\u001b[0m: name 'pylab' is not defined"
     ]
    },
    {
     "data": {
      "text/plain": [
       "<Figure size 432x288 with 0 Axes>"
      ]
     },
     "metadata": {},
     "output_type": "display_data"
    }
   ],
   "source": [
    "from mpl_toolkits.mplot3d import Axes3D\n",
    "plt.clf()\n",
    "fig = pylab.figure()\n",
    "ax = Axes3D(fig)\n",
    "ax.set_xlim3d(0, 1000)\n",
    "ax.set_ylim3d(0,1000)\n",
    "ax.set_zlim3d(0,1000)"
   ]
  },
  {
   "cell_type": "code",
   "execution_count": 15,
   "metadata": {},
   "outputs": [
    {
     "ename": "AttributeError",
     "evalue": "'numpy.ndarray' object has no attribute 'has_data'",
     "output_type": "error",
     "traceback": [
      "\u001b[0;31m---------------------------------------------------------------------------\u001b[0m",
      "\u001b[0;31mAttributeError\u001b[0m                            Traceback (most recent call last)",
      "\u001b[0;32m<ipython-input-15-02d0f86d7b4d>\u001b[0m in \u001b[0;36m<module>\u001b[0;34m\u001b[0m\n\u001b[0;32m----> 1\u001b[0;31m \u001b[0mAxes3D\u001b[0m\u001b[0;34m.\u001b[0m\u001b[0mplot_trisurf\u001b[0m\u001b[0;34m(\u001b[0m\u001b[0mX\u001b[0m\u001b[0;34m,\u001b[0m\u001b[0mY\u001b[0m\u001b[0;34m,\u001b[0m\u001b[0mZ\u001b[0m\u001b[0;34m)\u001b[0m\u001b[0;34m\u001b[0m\u001b[0;34m\u001b[0m\u001b[0m\n\u001b[0m",
      "\u001b[0;32m~/anaconda3/envs/arcnet/lib/python3.8/site-packages/mpl_toolkits/mplot3d/axes3d.py\u001b[0m in \u001b[0;36mplot_trisurf\u001b[0;34m(self, color, norm, vmin, vmax, lightsource, *args, **kwargs)\u001b[0m\n\u001b[1;32m   1925\u001b[0m         \"\"\"\n\u001b[1;32m   1926\u001b[0m \u001b[0;34m\u001b[0m\u001b[0m\n\u001b[0;32m-> 1927\u001b[0;31m         \u001b[0mhad_data\u001b[0m \u001b[0;34m=\u001b[0m \u001b[0mself\u001b[0m\u001b[0;34m.\u001b[0m\u001b[0mhas_data\u001b[0m\u001b[0;34m(\u001b[0m\u001b[0;34m)\u001b[0m\u001b[0;34m\u001b[0m\u001b[0;34m\u001b[0m\u001b[0m\n\u001b[0m\u001b[1;32m   1928\u001b[0m \u001b[0;34m\u001b[0m\u001b[0m\n\u001b[1;32m   1929\u001b[0m         \u001b[0;31m# TODO: Support custom face colours\u001b[0m\u001b[0;34m\u001b[0m\u001b[0;34m\u001b[0m\u001b[0;34m\u001b[0m\u001b[0m\n",
      "\u001b[0;31mAttributeError\u001b[0m: 'numpy.ndarray' object has no attribute 'has_data'"
     ]
    }
   ],
   "source": [
    "Axes3D.plot_trisurf(X,Y,Z)"
   ]
  },
  {
   "cell_type": "code",
   "execution_count": null,
   "metadata": {},
   "outputs": [],
   "source": []
  }
 ],
 "metadata": {
  "kernelspec": {
   "display_name": "Python 3",
   "language": "python",
   "name": "python3"
  },
  "language_info": {
   "codemirror_mode": {
    "name": "ipython",
    "version": 3
   },
   "file_extension": ".py",
   "mimetype": "text/x-python",
   "name": "python",
   "nbconvert_exporter": "python",
   "pygments_lexer": "ipython3",
   "version": "3.8.5"
  }
 },
 "nbformat": 4,
 "nbformat_minor": 4
}
